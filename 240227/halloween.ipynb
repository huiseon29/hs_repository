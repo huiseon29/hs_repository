{
 "cells": [
  {
   "cell_type": "markdown",
   "metadata": {},
   "source": [
    "### 할로윈 투자 전략\n",
    "1. 11월 첫날에 매수 -> 4월 마지막날에 매도\n",
    "2. 11월 첫날 시가로 매수\n",
    "3. 4월 마지막날에 종가로 매도\n",
    "4. 수익률 계산 -> 매도가 / 매수가\n",
    "5. 누적수익률 계산"
   ]
  },
  {
   "cell_type": "code",
   "execution_count": 3,
   "metadata": {},
   "outputs": [],
   "source": [
    "from datetime import datetime\n",
    "import pandas as pd\n",
    "from dateutil.relativedelta import relativedelta"
   ]
  },
  {
   "cell_type": "code",
   "execution_count": 4,
   "metadata": {},
   "outputs": [],
   "source": [
    "# 데이터 로드\n",
    "df = pd.read_csv('../../csv/AMZN.csv', index_col = 'Date')"
   ]
  },
  {
   "cell_type": "code",
   "execution_count": 5,
   "metadata": {},
   "outputs": [
    {
     "data": {
      "text/html": [
       "<div>\n",
       "<style scoped>\n",
       "    .dataframe tbody tr th:only-of-type {\n",
       "        vertical-align: middle;\n",
       "    }\n",
       "\n",
       "    .dataframe tbody tr th {\n",
       "        vertical-align: top;\n",
       "    }\n",
       "\n",
       "    .dataframe thead th {\n",
       "        text-align: right;\n",
       "    }\n",
       "</style>\n",
       "<table border=\"1\" class=\"dataframe\">\n",
       "  <thead>\n",
       "    <tr style=\"text-align: right;\">\n",
       "      <th></th>\n",
       "      <th>Open</th>\n",
       "      <th>High</th>\n",
       "      <th>Low</th>\n",
       "      <th>Close</th>\n",
       "      <th>Adj Close</th>\n",
       "      <th>Volume</th>\n",
       "    </tr>\n",
       "    <tr>\n",
       "      <th>Date</th>\n",
       "      <th></th>\n",
       "      <th></th>\n",
       "      <th></th>\n",
       "      <th></th>\n",
       "      <th></th>\n",
       "      <th></th>\n",
       "    </tr>\n",
       "  </thead>\n",
       "  <tbody>\n",
       "    <tr>\n",
       "      <th>1997-05-15</th>\n",
       "      <td>2.4375</td>\n",
       "      <td>2.5</td>\n",
       "      <td>1.927083</td>\n",
       "      <td>1.958333</td>\n",
       "      <td>1.958333</td>\n",
       "      <td>72156000</td>\n",
       "    </tr>\n",
       "  </tbody>\n",
       "</table>\n",
       "</div>"
      ],
      "text/plain": [
       "              Open  High       Low     Close  Adj Close    Volume\n",
       "Date                                                             \n",
       "1997-05-15  2.4375   2.5  1.927083  1.958333   1.958333  72156000"
      ]
     },
     "execution_count": 5,
     "metadata": {},
     "output_type": "execute_result"
    }
   ],
   "source": [
    "df.head(1)"
   ]
  },
  {
   "cell_type": "code",
   "execution_count": 6,
   "metadata": {},
   "outputs": [],
   "source": [
    "# 인덱스를 시계열 데이터로 변경\n",
    "df.index = pd.to_datetime(df.index, format = '%Y-%m-%d')"
   ]
  },
  {
   "cell_type": "code",
   "execution_count": 7,
   "metadata": {},
   "outputs": [
    {
     "data": {
      "text/plain": [
       "35.8125"
      ]
     },
     "execution_count": 7,
     "metadata": {},
     "output_type": "execute_result"
    }
   ],
   "source": [
    "# 2000년 11월 데이터를 출력하려면? \n",
    "df.loc['2000-11', ].iloc[0, 0]"
   ]
  },
  {
   "cell_type": "code",
   "execution_count": 8,
   "metadata": {},
   "outputs": [
    {
     "data": {
      "text/plain": [
       "Date\n",
       "2000-11-01    35.8125\n",
       "Name: Open, dtype: float64"
      ]
     },
     "execution_count": 8,
     "metadata": {},
     "output_type": "execute_result"
    }
   ],
   "source": [
    "df.loc['2000-11', ].head(1)['Open']"
   ]
  },
  {
   "cell_type": "code",
   "execution_count": 9,
   "metadata": {},
   "outputs": [
    {
     "name": "stderr",
     "output_type": "stream",
     "text": [
      "C:\\Users\\SAMSUNG\\AppData\\Local\\Temp\\ipykernel_7764\\1122638607.py:1: FutureWarning: Series.__getitem__ treating keys as positions is deprecated. In a future version, integer keys will always be treated as labels (consistent with DataFrame behavior). To access a value by position, use `ser.iloc[pos]`\n",
      "  df.loc['2000-11', 'Open'][0]\n"
     ]
    },
    {
     "data": {
      "text/plain": [
       "35.8125"
      ]
     },
     "execution_count": 9,
     "metadata": {},
     "output_type": "execute_result"
    }
   ],
   "source": [
    "df.loc['2000-11', 'Open'][0]"
   ]
  },
  {
   "cell_type": "code",
   "execution_count": 10,
   "metadata": {},
   "outputs": [
    {
     "name": "stderr",
     "output_type": "stream",
     "text": [
      "C:\\Users\\SAMSUNG\\AppData\\Local\\Temp\\ipykernel_7764\\2496373566.py:1: FutureWarning: Series.__getitem__ treating keys as positions is deprecated. In a future version, integer keys will always be treated as labels (consistent with DataFrame behavior). To access a value by position, use `ser.iloc[pos]`\n",
      "  df.loc['2001-04', 'Close'][-1]\n"
     ]
    },
    {
     "data": {
      "text/plain": [
       "15.78"
      ]
     },
     "execution_count": 10,
     "metadata": {},
     "output_type": "execute_result"
    }
   ],
   "source": [
    "df.loc['2001-04', 'Close'][-1]"
   ]
  },
  {
   "cell_type": "code",
   "execution_count": 11,
   "metadata": {},
   "outputs": [],
   "source": [
    "# 2000년부터 2010년까지 할로윈 투자 데이터를 추출\n",
    "\n",
    "# 비어 있는 데이터프레임 생성\n",
    "price_df = pd.DataFrame()\n",
    "\n",
    "for i in range(2000, 2010, 1): \n",
    "    # 매수하는 달을 문자열로 변수 생성\n",
    "    buy_mon = f'{i}-11'         # 2000-11, 2001-11, 2002-11, ...\n",
    "    sell_mon = str(i+1)+'-04'   # 2001-04, 2002-04, 2003-04, ...\n",
    "    # buy_mon에 조건식이 참인 데이터에서 첫날의 데이터만 추출\n",
    "    buy = df.loc[buy_mon, ].head(1)\n",
    "    sell = df.loc[sell_mon, ].tail(1)\n",
    "    # price_df와 buy를 결합 (단순 행 결합 -> 유니온 결합)\n",
    "    # concat({결합한 데이터프레임들을 리스트 형태로}, axis={0|1}, ignore_index={bool})\n",
    "    price_df = pd.concat([price_df, buy, sell], axis=0)"
   ]
  },
  {
   "cell_type": "code",
   "execution_count": 12,
   "metadata": {},
   "outputs": [],
   "source": [
    "price_df = price_df[['Open', 'Close']]"
   ]
  },
  {
   "cell_type": "code",
   "execution_count": 13,
   "metadata": {},
   "outputs": [],
   "source": [
    "# 수익률 칼럼을 생성하여 1을 대입\n",
    "price_df['rtn'] = 1"
   ]
  },
  {
   "cell_type": "code",
   "execution_count": 14,
   "metadata": {},
   "outputs": [
    {
     "name": "stderr",
     "output_type": "stream",
     "text": [
      "C:\\Users\\SAMSUNG\\AppData\\Local\\Temp\\ipykernel_7764\\4212222748.py:6: FutureWarning: Setting an item of incompatible dtype is deprecated and will raise an error in a future version of pandas. Value '0.4406282722513089' has dtype incompatible with int64, please explicitly cast to a compatible dtype first.\n",
      "  price_df.iloc[i, 2] = rtn\n"
     ]
    }
   ],
   "source": [
    "# 위치의 값이 홀수인 경우 수익률 계산\n",
    "for i in range(len(price_df)): \n",
    "    # 홀수인 조건\n",
    "    if i % 2 == 1: \n",
    "        rtn = price_df.iloc[i, ]['Close'] / price_df.iloc[i-1, ]['Open']\n",
    "        price_df.iloc[i, 2] = rtn"
   ]
  },
  {
   "cell_type": "code",
   "execution_count": 15,
   "metadata": {},
   "outputs": [
    {
     "data": {
      "text/html": [
       "<div>\n",
       "<style scoped>\n",
       "    .dataframe tbody tr th:only-of-type {\n",
       "        vertical-align: middle;\n",
       "    }\n",
       "\n",
       "    .dataframe tbody tr th {\n",
       "        vertical-align: top;\n",
       "    }\n",
       "\n",
       "    .dataframe thead th {\n",
       "        text-align: right;\n",
       "    }\n",
       "</style>\n",
       "<table border=\"1\" class=\"dataframe\">\n",
       "  <thead>\n",
       "    <tr style=\"text-align: right;\">\n",
       "      <th></th>\n",
       "      <th>Open</th>\n",
       "      <th>Close</th>\n",
       "      <th>rtn</th>\n",
       "    </tr>\n",
       "    <tr>\n",
       "      <th>Date</th>\n",
       "      <th></th>\n",
       "      <th></th>\n",
       "      <th></th>\n",
       "    </tr>\n",
       "  </thead>\n",
       "  <tbody>\n",
       "    <tr>\n",
       "      <th>2000-11-01</th>\n",
       "      <td>35.812500</td>\n",
       "      <td>37.375000</td>\n",
       "      <td>1.000000</td>\n",
       "    </tr>\n",
       "    <tr>\n",
       "      <th>2001-04-30</th>\n",
       "      <td>15.630000</td>\n",
       "      <td>15.780000</td>\n",
       "      <td>0.440628</td>\n",
       "    </tr>\n",
       "    <tr>\n",
       "      <th>2001-11-01</th>\n",
       "      <td>7.080000</td>\n",
       "      <td>6.950000</td>\n",
       "      <td>1.000000</td>\n",
       "    </tr>\n",
       "    <tr>\n",
       "      <th>2002-04-30</th>\n",
       "      <td>16.129999</td>\n",
       "      <td>16.690001</td>\n",
       "      <td>2.357345</td>\n",
       "    </tr>\n",
       "    <tr>\n",
       "      <th>2002-11-01</th>\n",
       "      <td>19.219999</td>\n",
       "      <td>19.799999</td>\n",
       "      <td>1.000000</td>\n",
       "    </tr>\n",
       "    <tr>\n",
       "      <th>2003-04-30</th>\n",
       "      <td>28.600000</td>\n",
       "      <td>28.690001</td>\n",
       "      <td>1.492716</td>\n",
       "    </tr>\n",
       "    <tr>\n",
       "      <th>2003-11-03</th>\n",
       "      <td>54.799999</td>\n",
       "      <td>56.740002</td>\n",
       "      <td>1.000000</td>\n",
       "    </tr>\n",
       "    <tr>\n",
       "      <th>2004-04-30</th>\n",
       "      <td>46.060001</td>\n",
       "      <td>43.599998</td>\n",
       "      <td>0.795620</td>\n",
       "    </tr>\n",
       "    <tr>\n",
       "      <th>2004-11-01</th>\n",
       "      <td>34.220001</td>\n",
       "      <td>35.099998</td>\n",
       "      <td>1.000000</td>\n",
       "    </tr>\n",
       "    <tr>\n",
       "      <th>2005-04-29</th>\n",
       "      <td>32.860001</td>\n",
       "      <td>32.360001</td>\n",
       "      <td>0.945646</td>\n",
       "    </tr>\n",
       "    <tr>\n",
       "      <th>2005-11-01</th>\n",
       "      <td>39.970001</td>\n",
       "      <td>40.369999</td>\n",
       "      <td>1.000000</td>\n",
       "    </tr>\n",
       "    <tr>\n",
       "      <th>2006-04-28</th>\n",
       "      <td>35.770000</td>\n",
       "      <td>35.209999</td>\n",
       "      <td>0.880911</td>\n",
       "    </tr>\n",
       "    <tr>\n",
       "      <th>2006-11-01</th>\n",
       "      <td>38.130001</td>\n",
       "      <td>37.560001</td>\n",
       "      <td>1.000000</td>\n",
       "    </tr>\n",
       "    <tr>\n",
       "      <th>2007-04-30</th>\n",
       "      <td>61.910000</td>\n",
       "      <td>61.330002</td>\n",
       "      <td>1.608445</td>\n",
       "    </tr>\n",
       "    <tr>\n",
       "      <th>2007-11-01</th>\n",
       "      <td>87.750000</td>\n",
       "      <td>87.650002</td>\n",
       "      <td>1.000000</td>\n",
       "    </tr>\n",
       "    <tr>\n",
       "      <th>2008-04-30</th>\n",
       "      <td>80.900002</td>\n",
       "      <td>78.629997</td>\n",
       "      <td>0.896068</td>\n",
       "    </tr>\n",
       "    <tr>\n",
       "      <th>2008-11-03</th>\n",
       "      <td>56.349998</td>\n",
       "      <td>55.770000</td>\n",
       "      <td>1.000000</td>\n",
       "    </tr>\n",
       "    <tr>\n",
       "      <th>2009-04-30</th>\n",
       "      <td>80.930000</td>\n",
       "      <td>80.519997</td>\n",
       "      <td>1.428926</td>\n",
       "    </tr>\n",
       "    <tr>\n",
       "      <th>2009-11-02</th>\n",
       "      <td>118.660004</td>\n",
       "      <td>118.839996</td>\n",
       "      <td>1.000000</td>\n",
       "    </tr>\n",
       "    <tr>\n",
       "      <th>2010-04-30</th>\n",
       "      <td>141.399994</td>\n",
       "      <td>137.100006</td>\n",
       "      <td>1.155402</td>\n",
       "    </tr>\n",
       "  </tbody>\n",
       "</table>\n",
       "</div>"
      ],
      "text/plain": [
       "                  Open       Close       rtn\n",
       "Date                                        \n",
       "2000-11-01   35.812500   37.375000  1.000000\n",
       "2001-04-30   15.630000   15.780000  0.440628\n",
       "2001-11-01    7.080000    6.950000  1.000000\n",
       "2002-04-30   16.129999   16.690001  2.357345\n",
       "2002-11-01   19.219999   19.799999  1.000000\n",
       "2003-04-30   28.600000   28.690001  1.492716\n",
       "2003-11-03   54.799999   56.740002  1.000000\n",
       "2004-04-30   46.060001   43.599998  0.795620\n",
       "2004-11-01   34.220001   35.099998  1.000000\n",
       "2005-04-29   32.860001   32.360001  0.945646\n",
       "2005-11-01   39.970001   40.369999  1.000000\n",
       "2006-04-28   35.770000   35.209999  0.880911\n",
       "2006-11-01   38.130001   37.560001  1.000000\n",
       "2007-04-30   61.910000   61.330002  1.608445\n",
       "2007-11-01   87.750000   87.650002  1.000000\n",
       "2008-04-30   80.900002   78.629997  0.896068\n",
       "2008-11-03   56.349998   55.770000  1.000000\n",
       "2009-04-30   80.930000   80.519997  1.428926\n",
       "2009-11-02  118.660004  118.839996  1.000000\n",
       "2010-04-30  141.399994  137.100006  1.155402"
      ]
     },
     "execution_count": 15,
     "metadata": {},
     "output_type": "execute_result"
    }
   ],
   "source": [
    "price_df"
   ]
  },
  {
   "cell_type": "code",
   "execution_count": 16,
   "metadata": {},
   "outputs": [],
   "source": [
    "price_df['rtn2'] = 1"
   ]
  },
  {
   "cell_type": "code",
   "execution_count": 17,
   "metadata": {},
   "outputs": [
    {
     "name": "stderr",
     "output_type": "stream",
     "text": [
      "C:\\Users\\SAMSUNG\\AppData\\Local\\Temp\\ipykernel_7764\\508433103.py:3: FutureWarning: Setting an item of incompatible dtype is deprecated and will raise an error in a future version of pandas. Value '0.4406282722513089' has dtype incompatible with int64, please explicitly cast to a compatible dtype first.\n",
      "  price_df.iloc[i, 3] = rtn\n"
     ]
    }
   ],
   "source": [
    "for i in range(1, len(price_df), 2): \n",
    "    rtn = price_df.iloc[i, ]['Close'] / price_df.iloc[i-1, ]['Open']\n",
    "    price_df.iloc[i, 3] = rtn"
   ]
  },
  {
   "cell_type": "code",
   "execution_count": 18,
   "metadata": {},
   "outputs": [
    {
     "data": {
      "text/html": [
       "<div>\n",
       "<style scoped>\n",
       "    .dataframe tbody tr th:only-of-type {\n",
       "        vertical-align: middle;\n",
       "    }\n",
       "\n",
       "    .dataframe tbody tr th {\n",
       "        vertical-align: top;\n",
       "    }\n",
       "\n",
       "    .dataframe thead th {\n",
       "        text-align: right;\n",
       "    }\n",
       "</style>\n",
       "<table border=\"1\" class=\"dataframe\">\n",
       "  <thead>\n",
       "    <tr style=\"text-align: right;\">\n",
       "      <th></th>\n",
       "      <th>Open</th>\n",
       "      <th>Close</th>\n",
       "      <th>rtn</th>\n",
       "      <th>rtn2</th>\n",
       "    </tr>\n",
       "    <tr>\n",
       "      <th>Date</th>\n",
       "      <th></th>\n",
       "      <th></th>\n",
       "      <th></th>\n",
       "      <th></th>\n",
       "    </tr>\n",
       "  </thead>\n",
       "  <tbody>\n",
       "    <tr>\n",
       "      <th>2000-11-01</th>\n",
       "      <td>35.812500</td>\n",
       "      <td>37.375000</td>\n",
       "      <td>1.000000</td>\n",
       "      <td>1.000000</td>\n",
       "    </tr>\n",
       "    <tr>\n",
       "      <th>2001-04-30</th>\n",
       "      <td>15.630000</td>\n",
       "      <td>15.780000</td>\n",
       "      <td>0.440628</td>\n",
       "      <td>0.440628</td>\n",
       "    </tr>\n",
       "    <tr>\n",
       "      <th>2001-11-01</th>\n",
       "      <td>7.080000</td>\n",
       "      <td>6.950000</td>\n",
       "      <td>1.000000</td>\n",
       "      <td>1.000000</td>\n",
       "    </tr>\n",
       "    <tr>\n",
       "      <th>2002-04-30</th>\n",
       "      <td>16.129999</td>\n",
       "      <td>16.690001</td>\n",
       "      <td>2.357345</td>\n",
       "      <td>2.357345</td>\n",
       "    </tr>\n",
       "    <tr>\n",
       "      <th>2002-11-01</th>\n",
       "      <td>19.219999</td>\n",
       "      <td>19.799999</td>\n",
       "      <td>1.000000</td>\n",
       "      <td>1.000000</td>\n",
       "    </tr>\n",
       "    <tr>\n",
       "      <th>2003-04-30</th>\n",
       "      <td>28.600000</td>\n",
       "      <td>28.690001</td>\n",
       "      <td>1.492716</td>\n",
       "      <td>1.492716</td>\n",
       "    </tr>\n",
       "    <tr>\n",
       "      <th>2003-11-03</th>\n",
       "      <td>54.799999</td>\n",
       "      <td>56.740002</td>\n",
       "      <td>1.000000</td>\n",
       "      <td>1.000000</td>\n",
       "    </tr>\n",
       "    <tr>\n",
       "      <th>2004-04-30</th>\n",
       "      <td>46.060001</td>\n",
       "      <td>43.599998</td>\n",
       "      <td>0.795620</td>\n",
       "      <td>0.795620</td>\n",
       "    </tr>\n",
       "    <tr>\n",
       "      <th>2004-11-01</th>\n",
       "      <td>34.220001</td>\n",
       "      <td>35.099998</td>\n",
       "      <td>1.000000</td>\n",
       "      <td>1.000000</td>\n",
       "    </tr>\n",
       "    <tr>\n",
       "      <th>2005-04-29</th>\n",
       "      <td>32.860001</td>\n",
       "      <td>32.360001</td>\n",
       "      <td>0.945646</td>\n",
       "      <td>0.945646</td>\n",
       "    </tr>\n",
       "    <tr>\n",
       "      <th>2005-11-01</th>\n",
       "      <td>39.970001</td>\n",
       "      <td>40.369999</td>\n",
       "      <td>1.000000</td>\n",
       "      <td>1.000000</td>\n",
       "    </tr>\n",
       "    <tr>\n",
       "      <th>2006-04-28</th>\n",
       "      <td>35.770000</td>\n",
       "      <td>35.209999</td>\n",
       "      <td>0.880911</td>\n",
       "      <td>0.880911</td>\n",
       "    </tr>\n",
       "    <tr>\n",
       "      <th>2006-11-01</th>\n",
       "      <td>38.130001</td>\n",
       "      <td>37.560001</td>\n",
       "      <td>1.000000</td>\n",
       "      <td>1.000000</td>\n",
       "    </tr>\n",
       "    <tr>\n",
       "      <th>2007-04-30</th>\n",
       "      <td>61.910000</td>\n",
       "      <td>61.330002</td>\n",
       "      <td>1.608445</td>\n",
       "      <td>1.608445</td>\n",
       "    </tr>\n",
       "    <tr>\n",
       "      <th>2007-11-01</th>\n",
       "      <td>87.750000</td>\n",
       "      <td>87.650002</td>\n",
       "      <td>1.000000</td>\n",
       "      <td>1.000000</td>\n",
       "    </tr>\n",
       "    <tr>\n",
       "      <th>2008-04-30</th>\n",
       "      <td>80.900002</td>\n",
       "      <td>78.629997</td>\n",
       "      <td>0.896068</td>\n",
       "      <td>0.896068</td>\n",
       "    </tr>\n",
       "    <tr>\n",
       "      <th>2008-11-03</th>\n",
       "      <td>56.349998</td>\n",
       "      <td>55.770000</td>\n",
       "      <td>1.000000</td>\n",
       "      <td>1.000000</td>\n",
       "    </tr>\n",
       "    <tr>\n",
       "      <th>2009-04-30</th>\n",
       "      <td>80.930000</td>\n",
       "      <td>80.519997</td>\n",
       "      <td>1.428926</td>\n",
       "      <td>1.428926</td>\n",
       "    </tr>\n",
       "    <tr>\n",
       "      <th>2009-11-02</th>\n",
       "      <td>118.660004</td>\n",
       "      <td>118.839996</td>\n",
       "      <td>1.000000</td>\n",
       "      <td>1.000000</td>\n",
       "    </tr>\n",
       "    <tr>\n",
       "      <th>2010-04-30</th>\n",
       "      <td>141.399994</td>\n",
       "      <td>137.100006</td>\n",
       "      <td>1.155402</td>\n",
       "      <td>1.155402</td>\n",
       "    </tr>\n",
       "  </tbody>\n",
       "</table>\n",
       "</div>"
      ],
      "text/plain": [
       "                  Open       Close       rtn      rtn2\n",
       "Date                                                  \n",
       "2000-11-01   35.812500   37.375000  1.000000  1.000000\n",
       "2001-04-30   15.630000   15.780000  0.440628  0.440628\n",
       "2001-11-01    7.080000    6.950000  1.000000  1.000000\n",
       "2002-04-30   16.129999   16.690001  2.357345  2.357345\n",
       "2002-11-01   19.219999   19.799999  1.000000  1.000000\n",
       "2003-04-30   28.600000   28.690001  1.492716  1.492716\n",
       "2003-11-03   54.799999   56.740002  1.000000  1.000000\n",
       "2004-04-30   46.060001   43.599998  0.795620  0.795620\n",
       "2004-11-01   34.220001   35.099998  1.000000  1.000000\n",
       "2005-04-29   32.860001   32.360001  0.945646  0.945646\n",
       "2005-11-01   39.970001   40.369999  1.000000  1.000000\n",
       "2006-04-28   35.770000   35.209999  0.880911  0.880911\n",
       "2006-11-01   38.130001   37.560001  1.000000  1.000000\n",
       "2007-04-30   61.910000   61.330002  1.608445  1.608445\n",
       "2007-11-01   87.750000   87.650002  1.000000  1.000000\n",
       "2008-04-30   80.900002   78.629997  0.896068  0.896068\n",
       "2008-11-03   56.349998   55.770000  1.000000  1.000000\n",
       "2009-04-30   80.930000   80.519997  1.428926  1.428926\n",
       "2009-11-02  118.660004  118.839996  1.000000  1.000000\n",
       "2010-04-30  141.399994  137.100006  1.155402  1.155402"
      ]
     },
     "execution_count": 18,
     "metadata": {},
     "output_type": "execute_result"
    }
   ],
   "source": [
    "price_df"
   ]
  },
  {
   "cell_type": "code",
   "execution_count": 19,
   "metadata": {},
   "outputs": [],
   "source": [
    "price_df['rtn3'] = 1 # 수익률 계산할 때 1 채우고 시작!! 누적곱이 쉬워진다!!"
   ]
  },
  {
   "cell_type": "code",
   "execution_count": 20,
   "metadata": {},
   "outputs": [
    {
     "data": {
      "text/plain": [
       "array([False,  True, False,  True, False,  True, False,  True, False,\n",
       "        True, False,  True, False,  True, False,  True, False,  True,\n",
       "       False,  True])"
      ]
     },
     "execution_count": 20,
     "metadata": {},
     "output_type": "execute_result"
    }
   ],
   "source": [
    "# 데이터 중 4월의 데이터만 추출\n",
    "price_df.index.month == 4"
   ]
  },
  {
   "cell_type": "code",
   "execution_count": 21,
   "metadata": {},
   "outputs": [],
   "source": [
    "flag = price_df.index.month == 4"
   ]
  },
  {
   "cell_type": "code",
   "execution_count": 22,
   "metadata": {},
   "outputs": [
    {
     "data": {
      "text/html": [
       "<div>\n",
       "<style scoped>\n",
       "    .dataframe tbody tr th:only-of-type {\n",
       "        vertical-align: middle;\n",
       "    }\n",
       "\n",
       "    .dataframe tbody tr th {\n",
       "        vertical-align: top;\n",
       "    }\n",
       "\n",
       "    .dataframe thead th {\n",
       "        text-align: right;\n",
       "    }\n",
       "</style>\n",
       "<table border=\"1\" class=\"dataframe\">\n",
       "  <thead>\n",
       "    <tr style=\"text-align: right;\">\n",
       "      <th></th>\n",
       "      <th>Open</th>\n",
       "      <th>Close</th>\n",
       "      <th>rtn</th>\n",
       "      <th>rtn2</th>\n",
       "      <th>rtn3</th>\n",
       "    </tr>\n",
       "    <tr>\n",
       "      <th>Date</th>\n",
       "      <th></th>\n",
       "      <th></th>\n",
       "      <th></th>\n",
       "      <th></th>\n",
       "      <th></th>\n",
       "    </tr>\n",
       "  </thead>\n",
       "  <tbody>\n",
       "    <tr>\n",
       "      <th>2001-04-30</th>\n",
       "      <td>15.630000</td>\n",
       "      <td>15.780000</td>\n",
       "      <td>0.440628</td>\n",
       "      <td>0.440628</td>\n",
       "      <td>1</td>\n",
       "    </tr>\n",
       "    <tr>\n",
       "      <th>2002-04-30</th>\n",
       "      <td>16.129999</td>\n",
       "      <td>16.690001</td>\n",
       "      <td>2.357345</td>\n",
       "      <td>2.357345</td>\n",
       "      <td>1</td>\n",
       "    </tr>\n",
       "    <tr>\n",
       "      <th>2003-04-30</th>\n",
       "      <td>28.600000</td>\n",
       "      <td>28.690001</td>\n",
       "      <td>1.492716</td>\n",
       "      <td>1.492716</td>\n",
       "      <td>1</td>\n",
       "    </tr>\n",
       "    <tr>\n",
       "      <th>2004-04-30</th>\n",
       "      <td>46.060001</td>\n",
       "      <td>43.599998</td>\n",
       "      <td>0.795620</td>\n",
       "      <td>0.795620</td>\n",
       "      <td>1</td>\n",
       "    </tr>\n",
       "    <tr>\n",
       "      <th>2005-04-29</th>\n",
       "      <td>32.860001</td>\n",
       "      <td>32.360001</td>\n",
       "      <td>0.945646</td>\n",
       "      <td>0.945646</td>\n",
       "      <td>1</td>\n",
       "    </tr>\n",
       "    <tr>\n",
       "      <th>2006-04-28</th>\n",
       "      <td>35.770000</td>\n",
       "      <td>35.209999</td>\n",
       "      <td>0.880911</td>\n",
       "      <td>0.880911</td>\n",
       "      <td>1</td>\n",
       "    </tr>\n",
       "    <tr>\n",
       "      <th>2007-04-30</th>\n",
       "      <td>61.910000</td>\n",
       "      <td>61.330002</td>\n",
       "      <td>1.608445</td>\n",
       "      <td>1.608445</td>\n",
       "      <td>1</td>\n",
       "    </tr>\n",
       "    <tr>\n",
       "      <th>2008-04-30</th>\n",
       "      <td>80.900002</td>\n",
       "      <td>78.629997</td>\n",
       "      <td>0.896068</td>\n",
       "      <td>0.896068</td>\n",
       "      <td>1</td>\n",
       "    </tr>\n",
       "    <tr>\n",
       "      <th>2009-04-30</th>\n",
       "      <td>80.930000</td>\n",
       "      <td>80.519997</td>\n",
       "      <td>1.428926</td>\n",
       "      <td>1.428926</td>\n",
       "      <td>1</td>\n",
       "    </tr>\n",
       "    <tr>\n",
       "      <th>2010-04-30</th>\n",
       "      <td>141.399994</td>\n",
       "      <td>137.100006</td>\n",
       "      <td>1.155402</td>\n",
       "      <td>1.155402</td>\n",
       "      <td>1</td>\n",
       "    </tr>\n",
       "  </tbody>\n",
       "</table>\n",
       "</div>"
      ],
      "text/plain": [
       "                  Open       Close       rtn      rtn2  rtn3\n",
       "Date                                                        \n",
       "2001-04-30   15.630000   15.780000  0.440628  0.440628     1\n",
       "2002-04-30   16.129999   16.690001  2.357345  2.357345     1\n",
       "2003-04-30   28.600000   28.690001  1.492716  1.492716     1\n",
       "2004-04-30   46.060001   43.599998  0.795620  0.795620     1\n",
       "2005-04-29   32.860001   32.360001  0.945646  0.945646     1\n",
       "2006-04-28   35.770000   35.209999  0.880911  0.880911     1\n",
       "2007-04-30   61.910000   61.330002  1.608445  1.608445     1\n",
       "2008-04-30   80.900002   78.629997  0.896068  0.896068     1\n",
       "2009-04-30   80.930000   80.519997  1.428926  1.428926     1\n",
       "2010-04-30  141.399994  137.100006  1.155402  1.155402     1"
      ]
     },
     "execution_count": 22,
     "metadata": {},
     "output_type": "execute_result"
    }
   ],
   "source": [
    "price_df.loc[flag, ]"
   ]
  },
  {
   "cell_type": "code",
   "execution_count": 23,
   "metadata": {},
   "outputs": [
    {
     "name": "stderr",
     "output_type": "stream",
     "text": [
      "C:\\Users\\SAMSUNG\\AppData\\Local\\Temp\\ipykernel_7764\\4011191873.py:5: FutureWarning: Setting an item of incompatible dtype is deprecated and will raise an error in a future version of pandas. Value '0.4406282722513089' has dtype incompatible with int64, please explicitly cast to a compatible dtype first.\n",
      "  price_df.loc[i, 'rtn3'] = rtn\n"
     ]
    }
   ],
   "source": [
    "for i in price_df.index: \n",
    "    # i가 의미하는 바는? 인덱스 데이터\n",
    "    if i.month == 4: \n",
    "        rtn = price_df.loc[i, 'Close'] / price_df.shift().loc[i, 'Open']\n",
    "        price_df.loc[i, 'rtn3'] = rtn"
   ]
  },
  {
   "cell_type": "code",
   "execution_count": 24,
   "metadata": {},
   "outputs": [
    {
     "data": {
      "text/html": [
       "<div>\n",
       "<style scoped>\n",
       "    .dataframe tbody tr th:only-of-type {\n",
       "        vertical-align: middle;\n",
       "    }\n",
       "\n",
       "    .dataframe tbody tr th {\n",
       "        vertical-align: top;\n",
       "    }\n",
       "\n",
       "    .dataframe thead th {\n",
       "        text-align: right;\n",
       "    }\n",
       "</style>\n",
       "<table border=\"1\" class=\"dataframe\">\n",
       "  <thead>\n",
       "    <tr style=\"text-align: right;\">\n",
       "      <th></th>\n",
       "      <th>Open</th>\n",
       "      <th>Close</th>\n",
       "      <th>rtn</th>\n",
       "      <th>rtn2</th>\n",
       "      <th>rtn3</th>\n",
       "    </tr>\n",
       "    <tr>\n",
       "      <th>Date</th>\n",
       "      <th></th>\n",
       "      <th></th>\n",
       "      <th></th>\n",
       "      <th></th>\n",
       "      <th></th>\n",
       "    </tr>\n",
       "  </thead>\n",
       "  <tbody>\n",
       "    <tr>\n",
       "      <th>2000-11-01</th>\n",
       "      <td>35.812500</td>\n",
       "      <td>37.375000</td>\n",
       "      <td>1.000000</td>\n",
       "      <td>1.000000</td>\n",
       "      <td>1.000000</td>\n",
       "    </tr>\n",
       "    <tr>\n",
       "      <th>2001-04-30</th>\n",
       "      <td>15.630000</td>\n",
       "      <td>15.780000</td>\n",
       "      <td>0.440628</td>\n",
       "      <td>0.440628</td>\n",
       "      <td>0.440628</td>\n",
       "    </tr>\n",
       "    <tr>\n",
       "      <th>2001-11-01</th>\n",
       "      <td>7.080000</td>\n",
       "      <td>6.950000</td>\n",
       "      <td>1.000000</td>\n",
       "      <td>1.000000</td>\n",
       "      <td>1.000000</td>\n",
       "    </tr>\n",
       "    <tr>\n",
       "      <th>2002-04-30</th>\n",
       "      <td>16.129999</td>\n",
       "      <td>16.690001</td>\n",
       "      <td>2.357345</td>\n",
       "      <td>2.357345</td>\n",
       "      <td>2.357345</td>\n",
       "    </tr>\n",
       "    <tr>\n",
       "      <th>2002-11-01</th>\n",
       "      <td>19.219999</td>\n",
       "      <td>19.799999</td>\n",
       "      <td>1.000000</td>\n",
       "      <td>1.000000</td>\n",
       "      <td>1.000000</td>\n",
       "    </tr>\n",
       "    <tr>\n",
       "      <th>2003-04-30</th>\n",
       "      <td>28.600000</td>\n",
       "      <td>28.690001</td>\n",
       "      <td>1.492716</td>\n",
       "      <td>1.492716</td>\n",
       "      <td>1.492716</td>\n",
       "    </tr>\n",
       "    <tr>\n",
       "      <th>2003-11-03</th>\n",
       "      <td>54.799999</td>\n",
       "      <td>56.740002</td>\n",
       "      <td>1.000000</td>\n",
       "      <td>1.000000</td>\n",
       "      <td>1.000000</td>\n",
       "    </tr>\n",
       "    <tr>\n",
       "      <th>2004-04-30</th>\n",
       "      <td>46.060001</td>\n",
       "      <td>43.599998</td>\n",
       "      <td>0.795620</td>\n",
       "      <td>0.795620</td>\n",
       "      <td>0.795620</td>\n",
       "    </tr>\n",
       "    <tr>\n",
       "      <th>2004-11-01</th>\n",
       "      <td>34.220001</td>\n",
       "      <td>35.099998</td>\n",
       "      <td>1.000000</td>\n",
       "      <td>1.000000</td>\n",
       "      <td>1.000000</td>\n",
       "    </tr>\n",
       "    <tr>\n",
       "      <th>2005-04-29</th>\n",
       "      <td>32.860001</td>\n",
       "      <td>32.360001</td>\n",
       "      <td>0.945646</td>\n",
       "      <td>0.945646</td>\n",
       "      <td>0.945646</td>\n",
       "    </tr>\n",
       "    <tr>\n",
       "      <th>2005-11-01</th>\n",
       "      <td>39.970001</td>\n",
       "      <td>40.369999</td>\n",
       "      <td>1.000000</td>\n",
       "      <td>1.000000</td>\n",
       "      <td>1.000000</td>\n",
       "    </tr>\n",
       "    <tr>\n",
       "      <th>2006-04-28</th>\n",
       "      <td>35.770000</td>\n",
       "      <td>35.209999</td>\n",
       "      <td>0.880911</td>\n",
       "      <td>0.880911</td>\n",
       "      <td>0.880911</td>\n",
       "    </tr>\n",
       "    <tr>\n",
       "      <th>2006-11-01</th>\n",
       "      <td>38.130001</td>\n",
       "      <td>37.560001</td>\n",
       "      <td>1.000000</td>\n",
       "      <td>1.000000</td>\n",
       "      <td>1.000000</td>\n",
       "    </tr>\n",
       "    <tr>\n",
       "      <th>2007-04-30</th>\n",
       "      <td>61.910000</td>\n",
       "      <td>61.330002</td>\n",
       "      <td>1.608445</td>\n",
       "      <td>1.608445</td>\n",
       "      <td>1.608445</td>\n",
       "    </tr>\n",
       "    <tr>\n",
       "      <th>2007-11-01</th>\n",
       "      <td>87.750000</td>\n",
       "      <td>87.650002</td>\n",
       "      <td>1.000000</td>\n",
       "      <td>1.000000</td>\n",
       "      <td>1.000000</td>\n",
       "    </tr>\n",
       "    <tr>\n",
       "      <th>2008-04-30</th>\n",
       "      <td>80.900002</td>\n",
       "      <td>78.629997</td>\n",
       "      <td>0.896068</td>\n",
       "      <td>0.896068</td>\n",
       "      <td>0.896068</td>\n",
       "    </tr>\n",
       "    <tr>\n",
       "      <th>2008-11-03</th>\n",
       "      <td>56.349998</td>\n",
       "      <td>55.770000</td>\n",
       "      <td>1.000000</td>\n",
       "      <td>1.000000</td>\n",
       "      <td>1.000000</td>\n",
       "    </tr>\n",
       "    <tr>\n",
       "      <th>2009-04-30</th>\n",
       "      <td>80.930000</td>\n",
       "      <td>80.519997</td>\n",
       "      <td>1.428926</td>\n",
       "      <td>1.428926</td>\n",
       "      <td>1.428926</td>\n",
       "    </tr>\n",
       "    <tr>\n",
       "      <th>2009-11-02</th>\n",
       "      <td>118.660004</td>\n",
       "      <td>118.839996</td>\n",
       "      <td>1.000000</td>\n",
       "      <td>1.000000</td>\n",
       "      <td>1.000000</td>\n",
       "    </tr>\n",
       "    <tr>\n",
       "      <th>2010-04-30</th>\n",
       "      <td>141.399994</td>\n",
       "      <td>137.100006</td>\n",
       "      <td>1.155402</td>\n",
       "      <td>1.155402</td>\n",
       "      <td>1.155402</td>\n",
       "    </tr>\n",
       "  </tbody>\n",
       "</table>\n",
       "</div>"
      ],
      "text/plain": [
       "                  Open       Close       rtn      rtn2      rtn3\n",
       "Date                                                            \n",
       "2000-11-01   35.812500   37.375000  1.000000  1.000000  1.000000\n",
       "2001-04-30   15.630000   15.780000  0.440628  0.440628  0.440628\n",
       "2001-11-01    7.080000    6.950000  1.000000  1.000000  1.000000\n",
       "2002-04-30   16.129999   16.690001  2.357345  2.357345  2.357345\n",
       "2002-11-01   19.219999   19.799999  1.000000  1.000000  1.000000\n",
       "2003-04-30   28.600000   28.690001  1.492716  1.492716  1.492716\n",
       "2003-11-03   54.799999   56.740002  1.000000  1.000000  1.000000\n",
       "2004-04-30   46.060001   43.599998  0.795620  0.795620  0.795620\n",
       "2004-11-01   34.220001   35.099998  1.000000  1.000000  1.000000\n",
       "2005-04-29   32.860001   32.360001  0.945646  0.945646  0.945646\n",
       "2005-11-01   39.970001   40.369999  1.000000  1.000000  1.000000\n",
       "2006-04-28   35.770000   35.209999  0.880911  0.880911  0.880911\n",
       "2006-11-01   38.130001   37.560001  1.000000  1.000000  1.000000\n",
       "2007-04-30   61.910000   61.330002  1.608445  1.608445  1.608445\n",
       "2007-11-01   87.750000   87.650002  1.000000  1.000000  1.000000\n",
       "2008-04-30   80.900002   78.629997  0.896068  0.896068  0.896068\n",
       "2008-11-03   56.349998   55.770000  1.000000  1.000000  1.000000\n",
       "2009-04-30   80.930000   80.519997  1.428926  1.428926  1.428926\n",
       "2009-11-02  118.660004  118.839996  1.000000  1.000000  1.000000\n",
       "2010-04-30  141.399994  137.100006  1.155402  1.155402  1.155402"
      ]
     },
     "execution_count": 24,
     "metadata": {},
     "output_type": "execute_result"
    }
   ],
   "source": [
    "price_df"
   ]
  },
  {
   "cell_type": "code",
   "execution_count": 25,
   "metadata": {},
   "outputs": [
    {
     "data": {
      "text/plain": [
       "Date\n",
       "2000-11-01    1.000000\n",
       "2001-04-30    0.440628\n",
       "2001-11-01    0.440628\n",
       "2002-04-30    1.038713\n",
       "2002-11-01    1.038713\n",
       "2003-04-30    1.550503\n",
       "2003-11-03    1.550503\n",
       "2004-04-30    1.233612\n",
       "2004-11-01    1.233612\n",
       "2005-04-29    1.166560\n",
       "2005-11-01    1.166560\n",
       "2006-04-28    1.027635\n",
       "2006-11-01    1.027635\n",
       "2007-04-30    1.652894\n",
       "2007-11-01    1.652894\n",
       "2008-04-30    1.481106\n",
       "2008-11-03    1.481106\n",
       "2009-04-30    2.116392\n",
       "2009-11-02    2.116392\n",
       "2010-04-30    2.445283\n",
       "Name: rtn, dtype: float64"
      ]
     },
     "execution_count": 25,
     "metadata": {},
     "output_type": "execute_result"
    }
   ],
   "source": [
    "price_df['rtn'].cumprod()"
   ]
  },
  {
   "cell_type": "code",
   "execution_count": 39,
   "metadata": {},
   "outputs": [
    {
     "data": {
      "text/plain": [
       "datetime.datetime(2000, 11, 1, 0, 0)"
      ]
     },
     "execution_count": 39,
     "metadata": {},
     "output_type": "execute_result"
    }
   ],
   "source": [
    "start = datetime(year=2000, month=11, day=1)\n",
    "start"
   ]
  },
  {
   "cell_type": "code",
   "execution_count": 40,
   "metadata": {},
   "outputs": [],
   "source": [
    "# 시작일로부터 5개월 뒤\n",
    "end = start + relativedelta(months=5)"
   ]
  },
  {
   "cell_type": "code",
   "execution_count": 41,
   "metadata": {},
   "outputs": [
    {
     "data": {
      "text/plain": [
       "datetime.datetime(2000, 11, 11, 0, 0)"
      ]
     },
     "execution_count": 41,
     "metadata": {},
     "output_type": "execute_result"
    }
   ],
   "source": [
    "start + relativedelta(days=10)"
   ]
  },
  {
   "cell_type": "code",
   "execution_count": 42,
   "metadata": {},
   "outputs": [
    {
     "data": {
      "text/plain": [
       "'2000-11'"
      ]
     },
     "execution_count": 42,
     "metadata": {},
     "output_type": "execute_result"
    }
   ],
   "source": [
    "start = start.strftime('%Y-%m')\n",
    "start"
   ]
  },
  {
   "cell_type": "code",
   "execution_count": 43,
   "metadata": {},
   "outputs": [
    {
     "data": {
      "text/plain": [
       "'2001-04'"
      ]
     },
     "execution_count": 43,
     "metadata": {},
     "output_type": "execute_result"
    }
   ],
   "source": [
    "end = end.strftime('%Y-%m')\n",
    "end"
   ]
  },
  {
   "cell_type": "markdown",
   "metadata": {},
   "source": [
    "### 할로윈 투자 전략을 함수화\n",
    "- 매개변수 4개: 데이터프레임, 시작연도, 종료연도, 시작월\n",
    "    - 시작연도 기본값은 2000\n",
    "    - 종료연도 기본값은 2010\n",
    "    - 시작월 기본값은 11\n",
    "- 칼럼에 Date가 존재하는가? \n",
    "    - 존재한다면 Date를 인덱스로 변경\n",
    "- 인덱스를 시계열 데이터로 변환"
   ]
  },
  {
   "cell_type": "code",
   "execution_count": 46,
   "metadata": {},
   "outputs": [],
   "source": [
    "# 할로윈 투자 전략을 함수화\n",
    "def six_month(_df, \n",
    "              _start = 2000, \n",
    "              _end = datetime.now().year, \n",
    "              _month = 11): \n",
    "    df = _df.copy()\n",
    "    if 'Date' in df.columns: \n",
    "        df.set_index('Date', inplace=True)\n",
    "    \n",
    "    df.index = pd.to_datetime(df.index, format='%Y-%m-%d')\n",
    "    df = df[['Open', 'Close']]\n",
    "\n",
    "    # 비어 있는 데이터프레임 생성\n",
    "    result = pd.DataFrame() \n",
    "\n",
    "    for i in range(_start, _end): \n",
    "        start = datetime(year=i, month=_month, day=1)\n",
    "        end = start + relativedelta(months=5)\n",
    "\n",
    "        buy_mon = start.strftime('%Y-%m')\n",
    "        sell_mon = end.strftime('%Y-%m')\n",
    "\n",
    "        try: \n",
    "            buy = df.loc[buy_mon, ].head(1)\n",
    "            sell = df.loc[sell_mon, ].tail(1)\n",
    "\n",
    "            result = pd.concat([result, buy, sell], axis=0)\n",
    "        except: \n",
    "            break\n",
    "    \n",
    "    # 수익률 계산\n",
    "    result['rtn'] = 1\n",
    "    for i in range(1, len(result), 2): \n",
    "        rtn = result.iloc[i, ]['Close'] / result.iloc[i-1, ]['Open']\n",
    "    result.iloc[i, 2] = rtn\n",
    "\n",
    "    # 누적수익률 계산\n",
    "    result['acc_rtn'] = result['rtn'].cumprod()\n",
    "\n",
    "    # 총누적수익률을 변수에 저장\n",
    "    acc_rtn = result.iloc[-1]['acc_rtn']\n",
    "\n",
    "    return result, acc_rtn"
   ]
  },
  {
   "cell_type": "code",
   "execution_count": 45,
   "metadata": {},
   "outputs": [],
   "source": [
    "df = pd.read_csv('../../csv/AMZN.csv')"
   ]
  },
  {
   "cell_type": "code",
   "execution_count": 47,
   "metadata": {},
   "outputs": [
    {
     "name": "stderr",
     "output_type": "stream",
     "text": [
      "C:\\Users\\SAMSUNG\\AppData\\Local\\Temp\\ipykernel_7764\\2811435403.py:35: FutureWarning: Setting an item of incompatible dtype is deprecated and will raise an error in a future version of pandas. Value '1.1866241988678363' has dtype incompatible with int64, please explicitly cast to a compatible dtype first.\n",
      "  result.iloc[i, 2] = rtn\n"
     ]
    },
    {
     "data": {
      "text/plain": [
       "(                   Open        Close       rtn   acc_rtn\n",
       " Date                                                    \n",
       " 2000-11-01    35.812500    37.375000  1.000000  1.000000\n",
       " 2001-04-30    15.630000    15.780000  1.000000  1.000000\n",
       " 2001-11-01     7.080000     6.950000  1.000000  1.000000\n",
       " 2002-04-30    16.129999    16.690001  1.000000  1.000000\n",
       " 2002-11-01    19.219999    19.799999  1.000000  1.000000\n",
       " 2003-04-30    28.600000    28.690001  1.000000  1.000000\n",
       " 2003-11-03    54.799999    56.740002  1.000000  1.000000\n",
       " 2004-04-30    46.060001    43.599998  1.000000  1.000000\n",
       " 2004-11-01    34.220001    35.099998  1.000000  1.000000\n",
       " 2005-04-29    32.860001    32.360001  1.000000  1.000000\n",
       " 2005-11-01    39.970001    40.369999  1.000000  1.000000\n",
       " 2006-04-28    35.770000    35.209999  1.000000  1.000000\n",
       " 2006-11-01    38.130001    37.560001  1.000000  1.000000\n",
       " 2007-04-30    61.910000    61.330002  1.000000  1.000000\n",
       " 2007-11-01    87.750000    87.650002  1.000000  1.000000\n",
       " 2008-04-30    80.900002    78.629997  1.000000  1.000000\n",
       " 2008-11-03    56.349998    55.770000  1.000000  1.000000\n",
       " 2009-04-30    80.930000    80.519997  1.000000  1.000000\n",
       " 2009-11-02   118.660004   118.839996  1.000000  1.000000\n",
       " 2010-04-30   141.399994   137.100006  1.000000  1.000000\n",
       " 2010-11-01   164.449997   162.580002  1.000000  1.000000\n",
       " 2011-04-29   194.380005   195.809998  1.000000  1.000000\n",
       " 2011-11-01   208.110001   212.100006  1.000000  1.000000\n",
       " 2012-04-30   223.949997   231.899994  1.000000  1.000000\n",
       " 2012-11-01   234.229996   232.139999  1.000000  1.000000\n",
       " 2013-04-30   249.369995   253.809998  1.000000  1.000000\n",
       " 2013-11-01   365.630005   359.000000  1.000000  1.000000\n",
       " 2014-04-30   298.100006   304.130005  1.000000  1.000000\n",
       " 2014-11-03   306.239990   305.720001  1.000000  1.000000\n",
       " 2015-04-30   427.109985   421.779999  1.000000  1.000000\n",
       " 2015-11-02   627.130005   628.349976  1.000000  1.000000\n",
       " 2016-04-29   666.000000   659.590027  1.000000  1.000000\n",
       " 2016-11-01   799.000000   785.409973  1.000000  1.000000\n",
       " 2017-04-28   948.830017   924.989990  1.000000  1.000000\n",
       " 2017-11-01  1105.400024  1103.680054  1.000000  1.000000\n",
       " 2018-04-30  1582.500000  1566.130005  1.000000  1.000000\n",
       " 2018-11-01  1623.530029  1665.530029  1.000000  1.000000\n",
       " 2019-04-30  1930.099976  1926.520020  1.186624  1.186624,\n",
       " 1.1866241988678363)"
      ]
     },
     "execution_count": 47,
     "metadata": {},
     "output_type": "execute_result"
    }
   ],
   "source": [
    "six_month(df)"
   ]
  },
  {
   "cell_type": "code",
   "execution_count": 53,
   "metadata": {},
   "outputs": [
    {
     "name": "stderr",
     "output_type": "stream",
     "text": [
      "'pip'��(��) ���� �Ǵ� �ܺ� ����, ������ �� �ִ� ���α׷�, �Ǵ�\n",
      "��ġ ������ �ƴմϴ�.\n"
     ]
    }
   ],
   "source": [
    "# 야후 파이낸스 라이브러리 설치\n",
    "!pip install yfinance"
   ]
  },
  {
   "cell_type": "code",
   "execution_count": 54,
   "metadata": {},
   "outputs": [],
   "source": [
    "import yfinance as yf"
   ]
  },
  {
   "cell_type": "code",
   "execution_count": 55,
   "metadata": {},
   "outputs": [
    {
     "name": "stderr",
     "output_type": "stream",
     "text": [
      "[*********************100%%**********************]  1 of 1 completed\n"
     ]
    }
   ],
   "source": [
    "aapl = yf.download('AAPL', start='2020-01-01')"
   ]
  },
  {
   "cell_type": "code",
   "execution_count": 56,
   "metadata": {},
   "outputs": [
    {
     "data": {
      "text/html": [
       "<div>\n",
       "<style scoped>\n",
       "    .dataframe tbody tr th:only-of-type {\n",
       "        vertical-align: middle;\n",
       "    }\n",
       "\n",
       "    .dataframe tbody tr th {\n",
       "        vertical-align: top;\n",
       "    }\n",
       "\n",
       "    .dataframe thead th {\n",
       "        text-align: right;\n",
       "    }\n",
       "</style>\n",
       "<table border=\"1\" class=\"dataframe\">\n",
       "  <thead>\n",
       "    <tr style=\"text-align: right;\">\n",
       "      <th></th>\n",
       "      <th>Open</th>\n",
       "      <th>High</th>\n",
       "      <th>Low</th>\n",
       "      <th>Close</th>\n",
       "      <th>Adj Close</th>\n",
       "      <th>Volume</th>\n",
       "    </tr>\n",
       "    <tr>\n",
       "      <th>Date</th>\n",
       "      <th></th>\n",
       "      <th></th>\n",
       "      <th></th>\n",
       "      <th></th>\n",
       "      <th></th>\n",
       "      <th></th>\n",
       "    </tr>\n",
       "  </thead>\n",
       "  <tbody>\n",
       "    <tr>\n",
       "      <th>2020-01-02</th>\n",
       "      <td>74.059998</td>\n",
       "      <td>75.150002</td>\n",
       "      <td>73.797501</td>\n",
       "      <td>75.087502</td>\n",
       "      <td>73.059425</td>\n",
       "      <td>135480400</td>\n",
       "    </tr>\n",
       "    <tr>\n",
       "      <th>2020-01-03</th>\n",
       "      <td>74.287498</td>\n",
       "      <td>75.144997</td>\n",
       "      <td>74.125000</td>\n",
       "      <td>74.357498</td>\n",
       "      <td>72.349144</td>\n",
       "      <td>146322800</td>\n",
       "    </tr>\n",
       "    <tr>\n",
       "      <th>2020-01-06</th>\n",
       "      <td>73.447502</td>\n",
       "      <td>74.989998</td>\n",
       "      <td>73.187500</td>\n",
       "      <td>74.949997</td>\n",
       "      <td>72.925636</td>\n",
       "      <td>118387200</td>\n",
       "    </tr>\n",
       "    <tr>\n",
       "      <th>2020-01-07</th>\n",
       "      <td>74.959999</td>\n",
       "      <td>75.224998</td>\n",
       "      <td>74.370003</td>\n",
       "      <td>74.597504</td>\n",
       "      <td>72.582664</td>\n",
       "      <td>108872000</td>\n",
       "    </tr>\n",
       "    <tr>\n",
       "      <th>2020-01-08</th>\n",
       "      <td>74.290001</td>\n",
       "      <td>76.110001</td>\n",
       "      <td>74.290001</td>\n",
       "      <td>75.797501</td>\n",
       "      <td>73.750229</td>\n",
       "      <td>132079200</td>\n",
       "    </tr>\n",
       "  </tbody>\n",
       "</table>\n",
       "</div>"
      ],
      "text/plain": [
       "                 Open       High        Low      Close  Adj Close     Volume\n",
       "Date                                                                        \n",
       "2020-01-02  74.059998  75.150002  73.797501  75.087502  73.059425  135480400\n",
       "2020-01-03  74.287498  75.144997  74.125000  74.357498  72.349144  146322800\n",
       "2020-01-06  73.447502  74.989998  73.187500  74.949997  72.925636  118387200\n",
       "2020-01-07  74.959999  75.224998  74.370003  74.597504  72.582664  108872000\n",
       "2020-01-08  74.290001  76.110001  74.290001  75.797501  73.750229  132079200"
      ]
     },
     "execution_count": 56,
     "metadata": {},
     "output_type": "execute_result"
    }
   ],
   "source": [
    "aapl.head()"
   ]
  },
  {
   "cell_type": "code",
   "execution_count": 57,
   "metadata": {},
   "outputs": [
    {
     "name": "stderr",
     "output_type": "stream",
     "text": [
      "[*********************100%%**********************]  1 of 1 completed\n"
     ]
    }
   ],
   "source": [
    "sdi = yf.download('006400.KS', start='2015-01-01')"
   ]
  },
  {
   "cell_type": "code",
   "execution_count": 58,
   "metadata": {},
   "outputs": [
    {
     "data": {
      "text/html": [
       "<div>\n",
       "<style scoped>\n",
       "    .dataframe tbody tr th:only-of-type {\n",
       "        vertical-align: middle;\n",
       "    }\n",
       "\n",
       "    .dataframe tbody tr th {\n",
       "        vertical-align: top;\n",
       "    }\n",
       "\n",
       "    .dataframe thead th {\n",
       "        text-align: right;\n",
       "    }\n",
       "</style>\n",
       "<table border=\"1\" class=\"dataframe\">\n",
       "  <thead>\n",
       "    <tr style=\"text-align: right;\">\n",
       "      <th></th>\n",
       "      <th>Open</th>\n",
       "      <th>High</th>\n",
       "      <th>Low</th>\n",
       "      <th>Close</th>\n",
       "      <th>Adj Close</th>\n",
       "      <th>Volume</th>\n",
       "    </tr>\n",
       "    <tr>\n",
       "      <th>Date</th>\n",
       "      <th></th>\n",
       "      <th></th>\n",
       "      <th></th>\n",
       "      <th></th>\n",
       "      <th></th>\n",
       "      <th></th>\n",
       "    </tr>\n",
       "  </thead>\n",
       "  <tbody>\n",
       "    <tr>\n",
       "      <th>2015-01-02</th>\n",
       "      <td>115500.0</td>\n",
       "      <td>118500.0</td>\n",
       "      <td>115500.0</td>\n",
       "      <td>117000.0</td>\n",
       "      <td>112447.515625</td>\n",
       "      <td>129817</td>\n",
       "    </tr>\n",
       "    <tr>\n",
       "      <th>2015-01-05</th>\n",
       "      <td>116500.0</td>\n",
       "      <td>117500.0</td>\n",
       "      <td>114500.0</td>\n",
       "      <td>115000.0</td>\n",
       "      <td>110525.359375</td>\n",
       "      <td>218029</td>\n",
       "    </tr>\n",
       "    <tr>\n",
       "      <th>2015-01-06</th>\n",
       "      <td>112000.0</td>\n",
       "      <td>113000.0</td>\n",
       "      <td>110000.0</td>\n",
       "      <td>111000.0</td>\n",
       "      <td>106680.984375</td>\n",
       "      <td>283326</td>\n",
       "    </tr>\n",
       "    <tr>\n",
       "      <th>2015-01-07</th>\n",
       "      <td>109500.0</td>\n",
       "      <td>112000.0</td>\n",
       "      <td>109000.0</td>\n",
       "      <td>110500.0</td>\n",
       "      <td>106200.437500</td>\n",
       "      <td>170777</td>\n",
       "    </tr>\n",
       "    <tr>\n",
       "      <th>2015-01-08</th>\n",
       "      <td>111500.0</td>\n",
       "      <td>115000.0</td>\n",
       "      <td>111000.0</td>\n",
       "      <td>114000.0</td>\n",
       "      <td>109564.250000</td>\n",
       "      <td>192137</td>\n",
       "    </tr>\n",
       "  </tbody>\n",
       "</table>\n",
       "</div>"
      ],
      "text/plain": [
       "                Open      High       Low     Close      Adj Close  Volume\n",
       "Date                                                                     \n",
       "2015-01-02  115500.0  118500.0  115500.0  117000.0  112447.515625  129817\n",
       "2015-01-05  116500.0  117500.0  114500.0  115000.0  110525.359375  218029\n",
       "2015-01-06  112000.0  113000.0  110000.0  111000.0  106680.984375  283326\n",
       "2015-01-07  109500.0  112000.0  109000.0  110500.0  106200.437500  170777\n",
       "2015-01-08  111500.0  115000.0  111000.0  114000.0  109564.250000  192137"
      ]
     },
     "execution_count": 58,
     "metadata": {},
     "output_type": "execute_result"
    }
   ],
   "source": [
    "sdi.head()"
   ]
  },
  {
   "cell_type": "code",
   "execution_count": 59,
   "metadata": {},
   "outputs": [
    {
     "name": "stderr",
     "output_type": "stream",
     "text": [
      "C:\\Users\\SAMSUNG\\AppData\\Local\\Temp\\ipykernel_7764\\2811435403.py:35: FutureWarning: Setting an item of incompatible dtype is deprecated and will raise an error in a future version of pandas. Value '1.0941448972939265' has dtype incompatible with int64, please explicitly cast to a compatible dtype first.\n",
      "  result.iloc[i, 2] = rtn\n"
     ]
    },
    {
     "data": {
      "text/plain": [
       "(                  Open       Close       rtn   acc_rtn\n",
       " Date                                                  \n",
       " 2020-11-02  109.110001  108.769997  1.000000  1.000000\n",
       " 2021-04-30  131.779999  131.460007  1.000000  1.000000\n",
       " 2021-11-01  148.990005  148.960007  1.000000  1.000000\n",
       " 2022-04-29  161.839996  157.649994  1.000000  1.000000\n",
       " 2022-11-01  155.080002  150.649994  1.000000  1.000000\n",
       " 2023-04-28  168.490005  169.679993  1.094145  1.094145,\n",
       " 1.0941448972939265)"
      ]
     },
     "execution_count": 59,
     "metadata": {},
     "output_type": "execute_result"
    }
   ],
   "source": [
    "six_month(aapl, _start=2020)"
   ]
  },
  {
   "cell_type": "code",
   "execution_count": 61,
   "metadata": {},
   "outputs": [
    {
     "name": "stdout",
     "output_type": "stream",
     "text": [
      "1월에 투자 시작 시 수익률: 1.49\n",
      "2월에 투자 시작 시 수익률: 1.36\n",
      "3월에 투자 시작 시 수익률: 1.28\n",
      "4월에 투자 시작 시 수익률: 1.04\n",
      "5월에 투자 시작 시 수익률: 1.01\n",
      "6월에 투자 시작 시 수익률: 1.07\n",
      "7월에 투자 시작 시 수익률: 0.99\n",
      "8월에 투자 시작 시 수익률: 0.94\n",
      "9월에 투자 시작 시 수익률: 0.96\n",
      "10월에 투자 시작 시 수익률: 1.19\n",
      "11월에 투자 시작 시 수익률: 1.09\n",
      "12월에 투자 시작 시 수익률: 1.2\n"
     ]
    },
    {
     "name": "stderr",
     "output_type": "stream",
     "text": [
      "C:\\Users\\SAMSUNG\\AppData\\Local\\Temp\\ipykernel_7764\\2811435403.py:35: FutureWarning: Setting an item of incompatible dtype is deprecated and will raise an error in a future version of pandas. Value '1.4888701492030363' has dtype incompatible with int64, please explicitly cast to a compatible dtype first.\n",
      "  result.iloc[i, 2] = rtn\n",
      "C:\\Users\\SAMSUNG\\AppData\\Local\\Temp\\ipykernel_7764\\2811435403.py:35: FutureWarning: Setting an item of incompatible dtype is deprecated and will raise an error in a future version of pandas. Value '1.3645203534247963' has dtype incompatible with int64, please explicitly cast to a compatible dtype first.\n",
      "  result.iloc[i, 2] = rtn\n",
      "C:\\Users\\SAMSUNG\\AppData\\Local\\Temp\\ipykernel_7764\\2811435403.py:35: FutureWarning: Setting an item of incompatible dtype is deprecated and will raise an error in a future version of pandas. Value '1.2795068635451914' has dtype incompatible with int64, please explicitly cast to a compatible dtype first.\n",
      "  result.iloc[i, 2] = rtn\n",
      "C:\\Users\\SAMSUNG\\AppData\\Local\\Temp\\ipykernel_7764\\2811435403.py:35: FutureWarning: Setting an item of incompatible dtype is deprecated and will raise an error in a future version of pandas. Value '1.0422475330912846' has dtype incompatible with int64, please explicitly cast to a compatible dtype first.\n",
      "  result.iloc[i, 2] = rtn\n",
      "C:\\Users\\SAMSUNG\\AppData\\Local\\Temp\\ipykernel_7764\\2811435403.py:35: FutureWarning: Setting an item of incompatible dtype is deprecated and will raise an error in a future version of pandas. Value '1.008802017390765' has dtype incompatible with int64, please explicitly cast to a compatible dtype first.\n",
      "  result.iloc[i, 2] = rtn\n",
      "C:\\Users\\SAMSUNG\\AppData\\Local\\Temp\\ipykernel_7764\\2811435403.py:35: FutureWarning: Setting an item of incompatible dtype is deprecated and will raise an error in a future version of pandas. Value '1.0689364108631245' has dtype incompatible with int64, please explicitly cast to a compatible dtype first.\n",
      "  result.iloc[i, 2] = rtn\n",
      "C:\\Users\\SAMSUNG\\AppData\\Local\\Temp\\ipykernel_7764\\2811435403.py:35: FutureWarning: Setting an item of incompatible dtype is deprecated and will raise an error in a future version of pandas. Value '0.9935493858609027' has dtype incompatible with int64, please explicitly cast to a compatible dtype first.\n",
      "  result.iloc[i, 2] = rtn\n",
      "C:\\Users\\SAMSUNG\\AppData\\Local\\Temp\\ipykernel_7764\\2811435403.py:35: FutureWarning: Setting an item of incompatible dtype is deprecated and will raise an error in a future version of pandas. Value '0.9396656580449794' has dtype incompatible with int64, please explicitly cast to a compatible dtype first.\n",
      "  result.iloc[i, 2] = rtn\n",
      "C:\\Users\\SAMSUNG\\AppData\\Local\\Temp\\ipykernel_7764\\2811435403.py:35: FutureWarning: Setting an item of incompatible dtype is deprecated and will raise an error in a future version of pandas. Value '0.9560398881757635' has dtype incompatible with int64, please explicitly cast to a compatible dtype first.\n",
      "  result.iloc[i, 2] = rtn\n",
      "C:\\Users\\SAMSUNG\\AppData\\Local\\Temp\\ipykernel_7764\\2811435403.py:35: FutureWarning: Setting an item of incompatible dtype is deprecated and will raise an error in a future version of pandas. Value '1.193111829' has dtype incompatible with int64, please explicitly cast to a compatible dtype first.\n",
      "  result.iloc[i, 2] = rtn\n",
      "C:\\Users\\SAMSUNG\\AppData\\Local\\Temp\\ipykernel_7764\\2811435403.py:35: FutureWarning: Setting an item of incompatible dtype is deprecated and will raise an error in a future version of pandas. Value '1.0941448972939265' has dtype incompatible with int64, please explicitly cast to a compatible dtype first.\n",
      "  result.iloc[i, 2] = rtn\n",
      "C:\\Users\\SAMSUNG\\AppData\\Local\\Temp\\ipykernel_7764\\2811435403.py:35: FutureWarning: Setting an item of incompatible dtype is deprecated and will raise an error in a future version of pandas. Value '1.195938141627624' has dtype incompatible with int64, please explicitly cast to a compatible dtype first.\n",
      "  result.iloc[i, 2] = rtn\n"
     ]
    }
   ],
   "source": [
    "# 1월부터 12월까지 6개월 유지 투자 전략\n",
    "for i in range(1, 13): \n",
    "    df, acc_rtn = six_month(aapl, _start=2020, _month=i)\n",
    "    print(f'{i}월에 투자 시작 시 수익률: {round(acc_rtn, 2)}')"
   ]
  }
 ],
 "metadata": {
  "kernelspec": {
   "display_name": "Python 3",
   "language": "python",
   "name": "python3"
  },
  "language_info": {
   "codemirror_mode": {
    "name": "ipython",
    "version": 3
   },
   "file_extension": ".py",
   "mimetype": "text/x-python",
   "name": "python",
   "nbconvert_exporter": "python",
   "pygments_lexer": "ipython3",
   "version": "3.12.2"
  }
 },
 "nbformat": 4,
 "nbformat_minor": 2
}
